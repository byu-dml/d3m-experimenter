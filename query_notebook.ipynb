{
 "metadata": {
  "language_info": {
   "codemirror_mode": {
    "name": "ipython",
    "version": 3
   },
   "file_extension": ".py",
   "mimetype": "text/x-python",
   "name": "python",
   "nbconvert_exporter": "python",
   "pygments_lexer": "ipython3",
   "version": "3.6.12-final"
  },
  "orig_nbformat": 2,
  "kernelspec": {
   "name": "Python 3.6.12 64-bit ('exp': conda)",
   "display_name": "Python 3.6.12 64-bit ('exp': conda)",
   "metadata": {
    "interpreter": {
     "hash": "b48d00f9374e15d4d6f23be360ae2374d2bde97b56fbcca4b20d087bbd4a4414"
    }
   }
  }
 },
 "nbformat": 4,
 "nbformat_minor": 2,
 "cells": [
  {
   "cell_type": "code",
   "execution_count": 2,
   "metadata": {},
   "outputs": [
    {
     "output_type": "display_data",
     "data": {
      "text/plain": "<IPython.core.display.HTML object>",
      "text/html": "<a href=\"https://colab.research.google.com/github/byu-dml/d3m-experimenter/blob/query-notebook/query_notebook.ipynb\">\n  <img src=\"https://colab.research.google.com/assets/colab-badge.svg\" alt=\"Open In Colab\"/>\n</a>\n"
     },
     "metadata": {}
    }
   ],
   "source": [
    "%%html\n",
    "<a href=\"https://colab.research.google.com/github/byu-dml/d3m-experimenter/blob/query-notebook/query_notebook.ipynb\">\n",
    "  <img src=\"https://colab.research.google.com/assets/colab-badge.svg\" alt=\"Open In Colab\"/>\n",
    "</a>"
   ]
  },
  {
   "source": [
    "# Metalearning Database Queries"
   ],
   "cell_type": "markdown",
   "metadata": {}
  },
  {
   "cell_type": "code",
   "execution_count": 1,
   "metadata": {
    "tags": [
     "outputPrepend"
    ]
   },
   "outputs": [
    {
     "output_type": "stream",
     "name": "stdout",
     "text": [
      "a3/envs/exp/lib/python3.6/site-packages (from d3m-experimenter==1.0) (7.5.1)\n",
      "Requirement already satisfied: joblib>=0.11 in /users/guest/e/esmith01/anaconda3/envs/exp/lib/python3.6/site-packages (from scikit-learn[alldeps]==0.21.3->d3m-experimenter==1.0) (0.17.0)\n",
      "Requirement already satisfied: scipy>=0.17.0 in /users/guest/e/esmith01/.local/lib/python3.6/site-packages (from scikit-learn[alldeps]==0.21.3->d3m-experimenter==1.0) (1.4.1)\n",
      "Requirement already satisfied: click>=5.0 in /users/guest/e/esmith01/anaconda3/envs/exp/lib/python3.6/site-packages (from rq==0.13.0->d3m-experimenter==1.0) (7.1.2)\n",
      "Requirement already satisfied: redis>=3.0.0 in /users/guest/e/esmith01/anaconda3/envs/exp/lib/python3.6/site-packages (from rq==0.13.0->d3m-experimenter==1.0) (3.5.3)\n",
      "Requirement already satisfied: dateparser<=0.7.2,>=0.7.0 in /users/guest/e/esmith01/anaconda3/envs/exp/lib/python3.6/site-packages (from d3m->d3m-experimenter==1.0) (0.7.2)\n",
      "Requirement already satisfied: PyYAML<=5.3,>=5.1 in /users/guest/e/esmith01/anaconda3/envs/exp/lib/python3.6/site-packages (from d3m->d3m-experimenter==1.0) (5.3)\n",
      "Requirement already satisfied: jsonschema<=3.2.0,>=3.0.2 in /users/guest/e/esmith01/anaconda3/envs/exp/lib/python3.6/site-packages (from d3m->d3m-experimenter==1.0) (3.2.0)\n",
      "Requirement already satisfied: custom-inherit<=2.2.2,>=2.2.0 in /users/guest/e/esmith01/anaconda3/envs/exp/lib/python3.6/site-packages (from d3m->d3m-experimenter==1.0) (2.2.2)\n",
      "Requirement already satisfied: gputil<=1.4.0,>=1.3.0 in /users/guest/e/esmith01/anaconda3/envs/exp/lib/python3.6/site-packages (from d3m->d3m-experimenter==1.0) (1.4.0)\n",
      "Requirement already satisfied: pyarrow<=0.16.0,>=0.15.1 in /users/guest/e/esmith01/anaconda3/envs/exp/lib/python3.6/site-packages (from d3m->d3m-experimenter==1.0) (0.16.0)\n",
      "Requirement already satisfied: pandas<=1.0.3,>=0.23.4 in /users/guest/e/esmith01/anaconda3/envs/exp/lib/python3.6/site-packages (from d3m->d3m-experimenter==1.0) (1.0.3)\n",
      "Requirement already satisfied: GitPython==3.1.0 in /users/guest/e/esmith01/anaconda3/envs/exp/lib/python3.6/site-packages (from d3m->d3m-experimenter==1.0) (3.1.0)\n",
      "Requirement already satisfied: jsonpath-ng==1.4.3 in /users/guest/e/esmith01/anaconda3/envs/exp/lib/python3.6/site-packages (from d3m->d3m-experimenter==1.0) (1.4.3)\n",
      "Requirement already satisfied: strict-rfc3339==0.7 in /users/guest/e/esmith01/anaconda3/envs/exp/lib/python3.6/site-packages (from d3m->d3m-experimenter==1.0) (0.7)\n",
      "Requirement already satisfied: pyrsistent<=0.15.7,>=0.14.11 in /users/guest/e/esmith01/anaconda3/envs/exp/lib/python3.6/site-packages (from d3m->d3m-experimenter==1.0) (0.15.7)\n",
      "Requirement already satisfied: frozendict==1.2 in /users/guest/e/esmith01/anaconda3/envs/exp/lib/python3.6/site-packages (from d3m->d3m-experimenter==1.0) (1.2)\n",
      "Requirement already satisfied: pytypes==1.0b5 in /users/guest/e/esmith01/anaconda3/envs/exp/lib/python3.6/site-packages (from d3m->d3m-experimenter==1.0) (1.0b5)\n",
      "Requirement already satisfied: webcolors<=1.11.1,>=1.8.1 in /users/guest/e/esmith01/anaconda3/envs/exp/lib/python3.6/site-packages (from d3m->d3m-experimenter==1.0) (1.11.1)\n",
      "Requirement already satisfied: python-dateutil==2.8.1 in /users/guest/e/esmith01/.local/lib/python3.6/site-packages (from d3m->d3m-experimenter==1.0) (2.8.1)\n",
      "Requirement already satisfied: openml==0.10.1 in /users/guest/e/esmith01/anaconda3/envs/exp/lib/python3.6/site-packages (from d3m->d3m-experimenter==1.0) (0.10.1)\n",
      "Requirement already satisfied: typing-inspect==0.5.0 in /users/guest/e/esmith01/anaconda3/envs/exp/lib/python3.6/site-packages (from d3m->d3m-experimenter==1.0) (0.5.0)\n",
      "Requirement already satisfied: pycurl<=7.43.0.5,>=7.43.0.2 in /users/guest/e/esmith01/anaconda3/envs/exp/lib/python3.6/site-packages (from d3m->d3m-experimenter==1.0) (7.43.0.5)\n",
      "Requirement already satisfied: rfc3987==1.3.8 in /users/guest/e/esmith01/anaconda3/envs/exp/lib/python3.6/site-packages (from d3m->d3m-experimenter==1.0) (1.3.8)\n",
      "Requirement already satisfied: Flask in /users/guest/e/esmith01/anaconda3/envs/exp/lib/python3.6/site-packages (from rq-dashboard->d3m-experimenter==1.0) (1.1.2)\n",
      "Requirement already satisfied: arrow in /users/guest/e/esmith01/anaconda3/envs/exp/lib/python3.6/site-packages (from rq-dashboard->d3m-experimenter==1.0) (0.17.0)\n",
      "Requirement already satisfied: urllib3!=1.25.0,!=1.25.1,<1.26,>=1.21.1 in /users/guest/e/esmith01/anaconda3/envs/exp/lib/python3.6/site-packages (from requests->d3m-experimenter==1.0) (1.25.11)\n",
      "Requirement already satisfied: certifi>=2017.4.17 in /users/guest/e/esmith01/anaconda3/envs/exp/lib/python3.6/site-packages (from requests->d3m-experimenter==1.0) (2020.6.20)\n",
      "Requirement already satisfied: chardet<4,>=3.0.2 in /users/guest/e/esmith01/anaconda3/envs/exp/lib/python3.6/site-packages (from requests->d3m-experimenter==1.0) (3.0.4)\n",
      "Requirement already satisfied: idna<3,>=2.5 in /users/guest/e/esmith01/anaconda3/envs/exp/lib/python3.6/site-packages (from requests->d3m-experimenter==1.0) (2.10)\n",
      "Requirement already satisfied: six in /users/guest/e/esmith01/anaconda3/envs/exp/lib/python3.6/site-packages (from elasticsearch-dsl->d3m-experimenter==1.0) (1.15.0)\n",
      "Requirement already satisfied: metalearn==0.6.1 in /users/guest/e/esmith01/anaconda3/envs/exp/lib/python3.6/site-packages (from byudml->d3m-experimenter==1.0) (0.6.1)\n",
      "Requirement already satisfied: sentence-transformers<=1.2.3 in /users/guest/e/esmith01/anaconda3/envs/exp/lib/python3.6/site-packages (from byudml->d3m-experimenter==1.0) (0.3.8)\n",
      "Requirement already satisfied: traitlets>=4.3.1 in /users/guest/e/esmith01/anaconda3/envs/exp/lib/python3.6/site-packages (from ipywidgets->d3m-experimenter==1.0) (4.3.3)\n",
      "Requirement already satisfied: nbformat>=4.2.0 in /users/guest/e/esmith01/anaconda3/envs/exp/lib/python3.6/site-packages (from ipywidgets->d3m-experimenter==1.0) (5.0.8)\n",
      "Requirement already satisfied: ipython>=4.0.0; python_version >= \"3.3\" in /users/guest/e/esmith01/anaconda3/envs/exp/lib/python3.6/site-packages (from ipywidgets->d3m-experimenter==1.0) (7.16.1)\n",
      "Requirement already satisfied: ipykernel>=4.5.1 in /users/guest/e/esmith01/anaconda3/envs/exp/lib/python3.6/site-packages (from ipywidgets->d3m-experimenter==1.0) (5.3.4)\n",
      "Requirement already satisfied: widgetsnbextension~=3.5.0 in /users/guest/e/esmith01/anaconda3/envs/exp/lib/python3.6/site-packages (from ipywidgets->d3m-experimenter==1.0) (3.5.1)\n",
      "Requirement already satisfied: tzlocal in /users/guest/e/esmith01/anaconda3/envs/exp/lib/python3.6/site-packages (from dateparser<=0.7.2,>=0.7.0->d3m->d3m-experimenter==1.0) (2.1)\n",
      "Requirement already satisfied: pytz in /users/guest/e/esmith01/anaconda3/envs/exp/lib/python3.6/site-packages (from dateparser<=0.7.2,>=0.7.0->d3m->d3m-experimenter==1.0) (2020.4)\n",
      "Requirement already satisfied: regex in /users/guest/e/esmith01/anaconda3/envs/exp/lib/python3.6/site-packages (from dateparser<=0.7.2,>=0.7.0->d3m->d3m-experimenter==1.0) (2020.10.28)\n",
      "Requirement already satisfied: attrs>=17.4.0 in /users/guest/e/esmith01/anaconda3/envs/exp/lib/python3.6/site-packages (from jsonschema<=3.2.0,>=3.0.2->d3m->d3m-experimenter==1.0) (20.2.0)\n",
      "Requirement already satisfied: setuptools in /users/guest/e/esmith01/.local/lib/python3.6/site-packages (from jsonschema<=3.2.0,>=3.0.2->d3m->d3m-experimenter==1.0) (47.1.1)\n",
      "Requirement already satisfied: importlib-metadata; python_version < \"3.8\" in /users/guest/e/esmith01/.local/lib/python3.6/site-packages (from jsonschema<=3.2.0,>=3.0.2->d3m->d3m-experimenter==1.0) (1.6.0)\n",
      "Requirement already satisfied: gitdb<5,>=4.0.1 in /users/guest/e/esmith01/anaconda3/envs/exp/lib/python3.6/site-packages (from GitPython==3.1.0->d3m->d3m-experimenter==1.0) (4.0.5)\n",
      "Requirement already satisfied: ply in /users/guest/e/esmith01/anaconda3/envs/exp/lib/python3.6/site-packages (from jsonpath-ng==1.4.3->d3m->d3m-experimenter==1.0) (3.11)\n",
      "Requirement already satisfied: decorator in /users/guest/e/esmith01/anaconda3/envs/exp/lib/python3.6/site-packages (from jsonpath-ng==1.4.3->d3m->d3m-experimenter==1.0) (4.4.2)\n",
      "Requirement already satisfied: xmltodict in /users/guest/e/esmith01/anaconda3/envs/exp/lib/python3.6/site-packages (from openml==0.10.1->d3m->d3m-experimenter==1.0) (0.12.0)\n",
      "Requirement already satisfied: liac-arff>=2.4.0 in /users/guest/e/esmith01/anaconda3/envs/exp/lib/python3.6/site-packages (from openml==0.10.1->d3m->d3m-experimenter==1.0) (2.5.0)\n",
      "Requirement already satisfied: mypy-extensions>=0.3.0 in /users/guest/e/esmith01/anaconda3/envs/exp/lib/python3.6/site-packages (from typing-inspect==0.5.0->d3m->d3m-experimenter==1.0) (0.4.3)\n",
      "Requirement already satisfied: typing-extensions>=3.7.4 in /users/guest/e/esmith01/anaconda3/envs/exp/lib/python3.6/site-packages (from typing-inspect==0.5.0->d3m->d3m-experimenter==1.0) (3.7.4.3)\n",
      "Requirement already satisfied: Werkzeug>=0.15 in /users/guest/e/esmith01/.local/lib/python3.6/site-packages (from Flask->rq-dashboard->d3m-experimenter==1.0) (1.0.1)\n",
      "Requirement already satisfied: itsdangerous>=0.24 in /users/guest/e/esmith01/anaconda3/envs/exp/lib/python3.6/site-packages (from Flask->rq-dashboard->d3m-experimenter==1.0) (1.1.0)\n",
      "Requirement already satisfied: Jinja2>=2.10.1 in /users/guest/e/esmith01/anaconda3/envs/exp/lib/python3.6/site-packages (from Flask->rq-dashboard->d3m-experimenter==1.0) (2.11.2)\n",
      "Requirement already satisfied: nltk in /users/guest/e/esmith01/anaconda3/envs/exp/lib/python3.6/site-packages (from sentence-transformers<=1.2.3->byudml->d3m-experimenter==1.0) (3.5)\n",
      "Requirement already satisfied: torch>=1.2.0 in /users/guest/e/esmith01/anaconda3/envs/exp/lib/python3.6/site-packages (from sentence-transformers<=1.2.3->byudml->d3m-experimenter==1.0) (1.7.0)\n",
      "Requirement already satisfied: transformers<3.4.0,>=3.1.0 in /users/guest/e/esmith01/anaconda3/envs/exp/lib/python3.6/site-packages (from sentence-transformers<=1.2.3->byudml->d3m-experimenter==1.0) (3.3.1)\n",
      "Requirement already satisfied: ipython-genutils in /users/guest/e/esmith01/anaconda3/envs/exp/lib/python3.6/site-packages (from traitlets>=4.3.1->ipywidgets->d3m-experimenter==1.0) (0.2.0)\n",
      "Requirement already satisfied: jupyter-core in /users/guest/e/esmith01/anaconda3/envs/exp/lib/python3.6/site-packages (from nbformat>=4.2.0->ipywidgets->d3m-experimenter==1.0) (4.6.3)\n",
      "Requirement already satisfied: jedi>=0.10 in /users/guest/e/esmith01/anaconda3/envs/exp/lib/python3.6/site-packages (from ipython>=4.0.0; python_version >= \"3.3\"->ipywidgets->d3m-experimenter==1.0) (0.17.2)\n",
      "Requirement already satisfied: pickleshare in /users/guest/e/esmith01/anaconda3/envs/exp/lib/python3.6/site-packages (from ipython>=4.0.0; python_version >= \"3.3\"->ipywidgets->d3m-experimenter==1.0) (0.7.5)\n",
      "Requirement already satisfied: pexpect; sys_platform != \"win32\" in /users/guest/e/esmith01/anaconda3/envs/exp/lib/python3.6/site-packages (from ipython>=4.0.0; python_version >= \"3.3\"->ipywidgets->d3m-experimenter==1.0) (4.8.0)\n",
      "Requirement already satisfied: backcall in /users/guest/e/esmith01/anaconda3/envs/exp/lib/python3.6/site-packages (from ipython>=4.0.0; python_version >= \"3.3\"->ipywidgets->d3m-experimenter==1.0) (0.2.0)\n",
      "Requirement already satisfied: pygments in /users/guest/e/esmith01/anaconda3/envs/exp/lib/python3.6/site-packages (from ipython>=4.0.0; python_version >= \"3.3\"->ipywidgets->d3m-experimenter==1.0) (2.7.2)\n",
      "Requirement already satisfied: prompt-toolkit!=3.0.0,!=3.0.1,<3.1.0,>=2.0.0 in /users/guest/e/esmith01/anaconda3/envs/exp/lib/python3.6/site-packages (from ipython>=4.0.0; python_version >= \"3.3\"->ipywidgets->d3m-experimenter==1.0) (3.0.8)\n",
      "Requirement already satisfied: tornado>=4.2 in /users/guest/e/esmith01/anaconda3/envs/exp/lib/python3.6/site-packages (from ipykernel>=4.5.1->ipywidgets->d3m-experimenter==1.0) (6.0.4)\n",
      "Requirement already satisfied: jupyter-client in /users/guest/e/esmith01/anaconda3/envs/exp/lib/python3.6/site-packages (from ipykernel>=4.5.1->ipywidgets->d3m-experimenter==1.0) (6.1.7)\n",
      "Requirement already satisfied: notebook>=4.4.1 in /users/guest/e/esmith01/anaconda3/envs/exp/lib/python3.6/site-packages (from widgetsnbextension~=3.5.0->ipywidgets->d3m-experimenter==1.0) (6.1.4)\n",
      "Requirement already satisfied: zipp>=0.5 in /users/guest/e/esmith01/.local/lib/python3.6/site-packages (from importlib-metadata; python_version < \"3.8\"->jsonschema<=3.2.0,>=3.0.2->d3m->d3m-experimenter==1.0) (3.1.0)\n",
      "Requirement already satisfied: smmap<4,>=3.0.1 in /users/guest/e/esmith01/anaconda3/envs/exp/lib/python3.6/site-packages (from gitdb<5,>=4.0.1->GitPython==3.1.0->d3m->d3m-experimenter==1.0) (3.0.4)\n",
      "Requirement already satisfied: MarkupSafe>=0.23 in /users/guest/e/esmith01/anaconda3/envs/exp/lib/python3.6/site-packages (from Jinja2>=2.10.1->Flask->rq-dashboard->d3m-experimenter==1.0) (1.1.1)\n",
      "Requirement already satisfied: dataclasses in /users/guest/e/esmith01/anaconda3/envs/exp/lib/python3.6/site-packages (from torch>=1.2.0->sentence-transformers<=1.2.3->byudml->d3m-experimenter==1.0) (0.7)\n",
      "Requirement already satisfied: future in /users/guest/e/esmith01/anaconda3/envs/exp/lib/python3.6/site-packages (from torch>=1.2.0->sentence-transformers<=1.2.3->byudml->d3m-experimenter==1.0) (0.18.2)\n",
      "Requirement already satisfied: sacremoses in /users/guest/e/esmith01/anaconda3/envs/exp/lib/python3.6/site-packages (from transformers<3.4.0,>=3.1.0->sentence-transformers<=1.2.3->byudml->d3m-experimenter==1.0) (0.0.43)\n",
      "Requirement already satisfied: filelock in /users/guest/e/esmith01/anaconda3/envs/exp/lib/python3.6/site-packages (from transformers<3.4.0,>=3.1.0->sentence-transformers<=1.2.3->byudml->d3m-experimenter==1.0) (3.0.12)\n",
      "Requirement already satisfied: packaging in /users/guest/e/esmith01/anaconda3/envs/exp/lib/python3.6/site-packages (from transformers<3.4.0,>=3.1.0->sentence-transformers<=1.2.3->byudml->d3m-experimenter==1.0) (20.4)\n",
      "Requirement already satisfied: sentencepiece!=0.1.92 in /users/guest/e/esmith01/anaconda3/envs/exp/lib/python3.6/site-packages (from transformers<3.4.0,>=3.1.0->sentence-transformers<=1.2.3->byudml->d3m-experimenter==1.0) (0.1.94)\n",
      "Requirement already satisfied: tokenizers==0.8.1.rc2 in /users/guest/e/esmith01/anaconda3/envs/exp/lib/python3.6/site-packages (from transformers<3.4.0,>=3.1.0->sentence-transformers<=1.2.3->byudml->d3m-experimenter==1.0) (0.8.1rc2)\n",
      "Requirement already satisfied: parso<0.8.0,>=0.7.0 in /users/guest/e/esmith01/anaconda3/envs/exp/lib/python3.6/site-packages (from jedi>=0.10->ipython>=4.0.0; python_version >= \"3.3\"->ipywidgets->d3m-experimenter==1.0) (0.7.0)\n",
      "Requirement already satisfied: ptyprocess>=0.5 in /users/guest/e/esmith01/anaconda3/envs/exp/lib/python3.6/site-packages (from pexpect; sys_platform != \"win32\"->ipython>=4.0.0; python_version >= \"3.3\"->ipywidgets->d3m-experimenter==1.0) (0.6.0)\n",
      "Requirement already satisfied: wcwidth in /users/guest/e/esmith01/anaconda3/envs/exp/lib/python3.6/site-packages (from prompt-toolkit!=3.0.0,!=3.0.1,<3.1.0,>=2.0.0->ipython>=4.0.0; python_version >= \"3.3\"->ipywidgets->d3m-experimenter==1.0) (0.2.5)\n",
      "Requirement already satisfied: pyzmq>=13 in /users/guest/e/esmith01/anaconda3/envs/exp/lib/python3.6/site-packages (from jupyter-client->ipykernel>=4.5.1->ipywidgets->d3m-experimenter==1.0) (19.0.2)\n",
      "Requirement already satisfied: nbconvert in /users/guest/e/esmith01/anaconda3/envs/exp/lib/python3.6/site-packages (from notebook>=4.4.1->widgetsnbextension~=3.5.0->ipywidgets->d3m-experimenter==1.0) (6.0.7)\n",
      "Requirement already satisfied: argon2-cffi in /users/guest/e/esmith01/anaconda3/envs/exp/lib/python3.6/site-packages (from notebook>=4.4.1->widgetsnbextension~=3.5.0->ipywidgets->d3m-experimenter==1.0) (20.1.0)\n",
      "Requirement already satisfied: Send2Trash in /users/guest/e/esmith01/anaconda3/envs/exp/lib/python3.6/site-packages (from notebook>=4.4.1->widgetsnbextension~=3.5.0->ipywidgets->d3m-experimenter==1.0) (1.5.0)\n",
      "Requirement already satisfied: terminado>=0.8.3 in /users/guest/e/esmith01/anaconda3/envs/exp/lib/python3.6/site-packages (from notebook>=4.4.1->widgetsnbextension~=3.5.0->ipywidgets->d3m-experimenter==1.0) (0.9.1)\n",
      "Requirement already satisfied: prometheus-client in /users/guest/e/esmith01/anaconda3/envs/exp/lib/python3.6/site-packages (from notebook>=4.4.1->widgetsnbextension~=3.5.0->ipywidgets->d3m-experimenter==1.0) (0.8.0)\n",
      "Requirement already satisfied: pyparsing>=2.0.2 in /users/guest/e/esmith01/anaconda3/envs/exp/lib/python3.6/site-packages (from packaging->transformers<3.4.0,>=3.1.0->sentence-transformers<=1.2.3->byudml->d3m-experimenter==1.0) (2.4.7)\n",
      "Requirement already satisfied: bleach in /users/guest/e/esmith01/anaconda3/envs/exp/lib/python3.6/site-packages (from nbconvert->notebook>=4.4.1->widgetsnbextension~=3.5.0->ipywidgets->d3m-experimenter==1.0) (3.2.1)\n",
      "Requirement already satisfied: testpath in /users/guest/e/esmith01/anaconda3/envs/exp/lib/python3.6/site-packages (from nbconvert->notebook>=4.4.1->widgetsnbextension~=3.5.0->ipywidgets->d3m-experimenter==1.0) (0.4.4)\n",
      "Requirement already satisfied: jupyterlab-pygments in /users/guest/e/esmith01/anaconda3/envs/exp/lib/python3.6/site-packages (from nbconvert->notebook>=4.4.1->widgetsnbextension~=3.5.0->ipywidgets->d3m-experimenter==1.0) (0.1.2)\n",
      "Requirement already satisfied: defusedxml in /users/guest/e/esmith01/anaconda3/envs/exp/lib/python3.6/site-packages (from nbconvert->notebook>=4.4.1->widgetsnbextension~=3.5.0->ipywidgets->d3m-experimenter==1.0) (0.6.0)\n",
      "Requirement already satisfied: nbclient<0.6.0,>=0.5.0 in /users/guest/e/esmith01/anaconda3/envs/exp/lib/python3.6/site-packages (from nbconvert->notebook>=4.4.1->widgetsnbextension~=3.5.0->ipywidgets->d3m-experimenter==1.0) (0.5.1)\n",
      "Requirement already satisfied: entrypoints>=0.2.2 in /users/guest/e/esmith01/anaconda3/envs/exp/lib/python3.6/site-packages (from nbconvert->notebook>=4.4.1->widgetsnbextension~=3.5.0->ipywidgets->d3m-experimenter==1.0) (0.3)\n",
      "Requirement already satisfied: pandocfilters>=1.4.1 in /users/guest/e/esmith01/anaconda3/envs/exp/lib/python3.6/site-packages (from nbconvert->notebook>=4.4.1->widgetsnbextension~=3.5.0->ipywidgets->d3m-experimenter==1.0) (1.4.3)\n",
      "Requirement already satisfied: mistune<2,>=0.8.1 in /users/guest/e/esmith01/anaconda3/envs/exp/lib/python3.6/site-packages (from nbconvert->notebook>=4.4.1->widgetsnbextension~=3.5.0->ipywidgets->d3m-experimenter==1.0) (0.8.4)\n",
      "Requirement already satisfied: cffi>=1.0.0 in /users/guest/e/esmith01/anaconda3/envs/exp/lib/python3.6/site-packages (from argon2-cffi->notebook>=4.4.1->widgetsnbextension~=3.5.0->ipywidgets->d3m-experimenter==1.0) (1.14.3)\n",
      "Requirement already satisfied: webencodings in /users/guest/e/esmith01/anaconda3/envs/exp/lib/python3.6/site-packages (from bleach->nbconvert->notebook>=4.4.1->widgetsnbextension~=3.5.0->ipywidgets->d3m-experimenter==1.0) (0.5.1)\n",
      "Requirement already satisfied: async-generator in /users/guest/e/esmith01/anaconda3/envs/exp/lib/python3.6/site-packages (from nbclient<0.6.0,>=0.5.0->nbconvert->notebook>=4.4.1->widgetsnbextension~=3.5.0->ipywidgets->d3m-experimenter==1.0) (1.10)\n",
      "Requirement already satisfied: nest-asyncio in /users/guest/e/esmith01/anaconda3/envs/exp/lib/python3.6/site-packages (from nbclient<0.6.0,>=0.5.0->nbconvert->notebook>=4.4.1->widgetsnbextension~=3.5.0->ipywidgets->d3m-experimenter==1.0) (1.4.2)\n",
      "Requirement already satisfied: pycparser in /users/guest/e/esmith01/anaconda3/envs/exp/lib/python3.6/site-packages (from cffi>=1.0.0->argon2-cffi->notebook>=4.4.1->widgetsnbextension~=3.5.0->ipywidgets->d3m-experimenter==1.0) (2.20)\n",
      "Building wheels for collected packages: d3m-experimenter\n",
      "  Building wheel for d3m-experimenter (setup.py) ... \u001b[?25ldone\n",
      "\u001b[?25h  Created wheel for d3m-experimenter: filename=d3m_experimenter-1.0-py3-none-any.whl size=47394 sha256=26b9671507b080b05fbb25f16d7da7cb4e6c2f3b255da0abe237c6222550ea2d\n",
      "  Stored in directory: /tmp/pip-ephem-wheel-cache-83n4r7v2/wheels/82/43/ce/b4a61434420e740890890c893f7db071796f1480b75526abb6\n",
      "Successfully built d3m-experimenter\n",
      "Installing collected packages: d3m-experimenter\n",
      "Successfully installed d3m-experimenter-1.0\n"
     ]
    }
   ],
   "source": [
    "!pip install git+https://github.com/byu-dml/d3m-experimenter.git@query-notebook"
   ]
  },
  {
   "cell_type": "code",
   "execution_count": 2,
   "metadata": {},
   "outputs": [],
   "source": [
    "import ipywidgets as widgets\n",
    "from uuid import UUID\n",
    "from experimenter.query import query_generator"
   ]
  },
  {
   "cell_type": "code",
   "execution_count": 5,
   "metadata": {},
   "outputs": [],
   "source": [
    "def is_uuid(x: str):\n",
    "    try:\n",
    "        return UUID(x).version == 5\n",
    "    except ValueError:\n",
    "        return False"
   ]
  },
  {
   "cell_type": "code",
   "execution_count": 18,
   "metadata": {},
   "outputs": [],
   "source": [
    "style = {'description_width': '130px'}\n",
    "query_types = {\n",
    "    'Primitive ID': 'primitives',\n",
    "    'Pipeline ID': 'pipelines',\n",
    "    'Pipeline Run ID': 'pipeline_runs',\n",
    "    'Problem ID': 'problems',\n",
    "    'Dataset ID': 'datasets',\n",
    "}\n",
    "query_type = widgets.Dropdown(\n",
    "    options=query_types.keys(),\n",
    "    value='Primitive ID',\n",
    "    description='Document type: ',\n",
    "    style=style\n",
    ")\n",
    "query_button = widgets.Button(description='Query', button_style='success')\n",
    "query_text = widgets.Text(\n",
    "    placeholder='Insert valid UUID here',\n",
    "    description='Document ID:',\n",
    "    disabled=False,\n",
    "    style=style\n",
    ")\n",
    "query_output = widgets.Output()\n",
    "\n",
    "def query(b):\n",
    "    with query_output:\n",
    "        query_output.clear_output()\n",
    "        if is_uuid(query_text.value):\n",
    "            print(query_types[query_type.value])\n",
    "            print(next(query_generator(query_types[query_type.value], query_text.value)))\n",
    "        else:\n",
    "            print('Invalid UUID')\n",
    "\n",
    "query_button.on_click(query)\n",
    "query_menu = widgets.VBox([query_text, widgets.HBox([query_type, query_button]), query_output])"
   ]
  },
  {
   "cell_type": "code",
   "execution_count": 19,
   "metadata": {},
   "outputs": [
    {
     "output_type": "display_data",
     "data": {
      "text/plain": "VBox(children=(Text(value='', description='Document ID:', placeholder='Insert valid UUID here', style=Descript…",
      "application/vnd.jupyter.widget-view+json": {
       "version_major": 2,
       "version_minor": 0,
       "model_id": "ed9e1603abd6459abc21f50e14f4223f"
      }
     },
     "metadata": {}
    }
   ],
   "source": [
    "query_menu"
   ]
  }
 ]
}