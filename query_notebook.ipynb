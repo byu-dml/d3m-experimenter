{
 "metadata": {
  "language_info": {
   "codemirror_mode": {
    "name": "ipython",
    "version": 3
   },
   "file_extension": ".py",
   "mimetype": "text/x-python",
   "name": "python",
   "nbconvert_exporter": "python",
   "pygments_lexer": "ipython3",
   "version": "3.6.12-final"
  },
  "orig_nbformat": 2,
  "kernelspec": {
   "name": "Python 3.6.12 64-bit ('exp': conda)",
   "display_name": "Python 3.6.12 64-bit ('exp': conda)",
   "metadata": {
    "interpreter": {
     "hash": "b48d00f9374e15d4d6f23be360ae2374d2bde97b56fbcca4b20d087bbd4a4414"
    }
   }
  }
 },
 "nbformat": 4,
 "nbformat_minor": 2,
 "cells": [
  {
   "source": [
    "# Metalearning Database Queries"
   ],
   "cell_type": "markdown",
   "metadata": {}
  },
  {
   "cell_type": "code",
   "execution_count": 2,
   "metadata": {},
   "outputs": [],
   "source": [
    "import ipywidgets as widgets\n",
    "from uuid import UUID\n",
    "from experimenter.query import query_generator"
   ]
  },
  {
   "cell_type": "code",
   "execution_count": 5,
   "metadata": {},
   "outputs": [],
   "source": [
    "def is_uuid(x: str):\n",
    "    try:\n",
    "        return UUID(x).version == 5\n",
    "    except ValueError:\n",
    "        return False"
   ]
  },
  {
   "cell_type": "code",
   "execution_count": 18,
   "metadata": {},
   "outputs": [],
   "source": [
    "style = {'description_width': '130px'}\n",
    "query_types = {\n",
    "    'Primitive ID': 'primitives',\n",
    "    'Pipeline ID': 'pipelines',\n",
    "    'Pipeline Run ID': 'pipeline_runs',\n",
    "    'Problem ID': 'problems',\n",
    "    'Dataset ID': 'datasets',\n",
    "}\n",
    "query_type = widgets.Dropdown(\n",
    "    options=query_types.keys(),\n",
    "    value='Primitive ID',\n",
    "    description='Document type: ',\n",
    "    style=style\n",
    ")\n",
    "query_button = widgets.Button(description='Query', button_style='success')\n",
    "query_text = widgets.Text(\n",
    "    placeholder='Insert valid UUID here',\n",
    "    description='Document ID:',\n",
    "    disabled=False,\n",
    "    style=style\n",
    ")\n",
    "query_output = widgets.Output()\n",
    "\n",
    "def query(b):\n",
    "    with query_output:\n",
    "        query_output.clear_output()\n",
    "        if is_uuid(query_text.value):\n",
    "            print(query_types[query_type.value])\n",
    "            print(next(query_generator(query_types[query_type.value], query_text.value)))\n",
    "        else:\n",
    "            print('Invalid UUID')\n",
    "\n",
    "query_button.on_click(query)\n",
    "query_menu = widgets.VBox([query_text, widgets.HBox([query_type, query_button]), query_output])"
   ]
  },
  {
   "cell_type": "code",
   "execution_count": 19,
   "metadata": {},
   "outputs": [
    {
     "output_type": "display_data",
     "data": {
      "text/plain": "VBox(children=(Text(value='', description='Document ID:', placeholder='Insert valid UUID here', style=Descript…",
      "application/vnd.jupyter.widget-view+json": {
       "version_major": 2,
       "version_minor": 0,
       "model_id": "ed9e1603abd6459abc21f50e14f4223f"
      }
     },
     "metadata": {}
    }
   ],
   "source": [
    "query_menu"
   ]
  }
 ]
}