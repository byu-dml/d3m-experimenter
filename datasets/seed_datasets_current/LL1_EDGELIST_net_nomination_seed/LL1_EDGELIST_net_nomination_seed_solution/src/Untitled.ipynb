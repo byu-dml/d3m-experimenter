{
 "cells": [
  {
   "cell_type": "code",
   "execution_count": 1,
   "metadata": {},
   "outputs": [],
   "source": [
    "import os, sys, json, subprocess, time, threading\n",
    "import pandas as pd \n",
    "from d3mds import D3MDataset, D3MProblem, D3MDS\n",
    "import networkx as nx\n",
    "from sklearn.metrics import accuracy_score\n",
    "from sklearn.metrics.cluster import normalized_mutual_info_score\n",
    "from sklearn.svm import SVC"
   ]
  },
  {
   "cell_type": "code",
   "execution_count": 2,
   "metadata": {},
   "outputs": [],
   "source": [
    "here = os.getcwd()\n",
    "dspath = os.path.join(here, '..', '..', 'LL1_EDGELIST_net_nomination_seed_dataset')\n",
    "prpath = os.path.join(here, '..', '..', 'LL1_EDGELIST_net_nomination_seed_problem')\n",
    "solpath = os.path.join(here, '..')\n",
    "graphpath = os.path.join(dspath, 'graphs')\n",
    "assert os.path.exists(dspath)\n",
    "assert os.path.exists(prpath)"
   ]
  },
  {
   "cell_type": "code",
   "execution_count": 44,
   "metadata": {},
   "outputs": [],
   "source": [
    "# convert edgeList to graph\n",
    "G1 = nx.Graph()\n",
    "edf = pd.read_csv(os.path.join(graphpath, 'edgeList.csv'), index_col=0)\n",
    "for i, row in edf.iterrows():\n",
    "    v1 = int(row.V1_nodeID)\n",
    "    v2 = int(row.V2_nodeID)\n",
    "    G1.add_edge(v1, v2)\n",
    "\n",
    "# add attributes to nodes of G1 \n",
    "ldf = pd.read_csv(os.path.join(dspath, 'tables', 'learningData.csv'), index_col=0)\n",
    "attr1_dict = {}\n",
    "attr2_dict = {}\n",
    "nodeid_dict = {}\n",
    "for i, row in ldf.iterrows():\n",
    "    nodeID = int(row.nodeID)\n",
    "    attr1 = row.attr1\n",
    "    attr2 = row.attr2\n",
    "    attr1_dict[nodeID]=attr1\n",
    "    attr2_dict[nodeID]=attr2\n",
    "    nodeid_dict[nodeID]=nodeID\n",
    "nx.set_node_attributes(G1, attr1_dict, 'attr1')\n",
    "nx.set_node_attributes(G1, attr2_dict, 'attr2')\n",
    "nx.set_node_attributes(G1, nodeid_dict, 'nodeID')\n",
    "nx.write_gml(G1, 'G1.gml')"
   ]
  },
  {
   "cell_type": "code",
   "execution_count": 45,
   "metadata": {},
   "outputs": [
    {
     "name": "stderr",
     "output_type": "stream",
     "text": [
      "/mnt/c/Users/SW26425/Projects/D3M/Datsets/temp/LL1_EDGELIST_net_nomination_seed/LL1_EDGELIST_net_nomination_seed_solution/src/d3mds.py:31: UserWarning: the datasetSchemaVersions in the API and datasetDoc do not match !!!!!!!\n",
      "  warnings.warn(\"the datasetSchemaVersions in the API and datasetDoc do not match !!!!!!!\")\n",
      "/mnt/c/Users/SW26425/Projects/D3M/Datsets/temp/LL1_EDGELIST_net_nomination_seed/LL1_EDGELIST_net_nomination_seed_solution/src/d3mds.py:197: UserWarning: the problemSchemaVersions in the API and datasetDoc do not match !!!!!!!\n",
      "  warnings.warn(\"the problemSchemaVersions in the API and datasetDoc do not match !!!!!!!\")\n"
     ]
    }
   ],
   "source": [
    "G1 = nx.read_gml('G1.gml')\n",
    "d3mds = D3MDS(dspath, prpath)"
   ]
  },
  {
   "cell_type": "code",
   "execution_count": 58,
   "metadata": {},
   "outputs": [
    {
     "name": "stdout",
     "output_type": "stream",
     "text": [
      "X_train.shape (20, 2)\n",
      "y_train.shape (20,)\n"
     ]
    }
   ],
   "source": [
    "# get the train data\n",
    "X_train = d3mds.get_train_data()\n",
    "X_train.pop('nodeID')\n",
    "print('X_train.shape', X_train.shape)\n",
    "y_train = d3mds.get_train_targets().ravel()\n",
    "print('y_train.shape', y_train.shape)"
   ]
  },
  {
   "cell_type": "code",
   "execution_count": 59,
   "metadata": {},
   "outputs": [
    {
     "data": {
      "text/plain": [
       "SVC(C=1.0, cache_size=200, class_weight=None, coef0=0.0,\n",
       "  decision_function_shape='ovr', degree=3, gamma='auto', kernel='rbf',\n",
       "  max_iter=-1, probability=False, random_state=None, shrinking=True,\n",
       "  tol=0.001, verbose=False)"
      ]
     },
     "execution_count": 59,
     "metadata": {},
     "output_type": "execute_result"
    }
   ],
   "source": [
    "# train a simple baseline classifier that only considers the node attributes\n",
    "# We are ignoring the relational data (connections between the nodes)\n",
    "clf = SVC()\n",
    "clf.fit(X_train, y_train)"
   ]
  },
  {
   "cell_type": "code",
   "execution_count": 62,
   "metadata": {},
   "outputs": [
    {
     "name": "stdout",
     "output_type": "stream",
     "text": [
      "X_test.shape (80, 2)\n"
     ]
    }
   ],
   "source": [
    "# get the test data\n",
    "X_test = d3mds.get_test_data()\n",
    "X_test.pop('nodeID')\n",
    "print('X_test.shape', X_test.shape)\n",
    "# make a prediction on the test data\n",
    "y_pred = clf.predict(X_test)"
   ]
  },
  {
   "cell_type": "code",
   "execution_count": 63,
   "metadata": {},
   "outputs": [],
   "source": [
    "# get the true test targets\n",
    "y_truth = d3mds.get_test_targets().ravel()"
   ]
  },
  {
   "cell_type": "code",
   "execution_count": 64,
   "metadata": {},
   "outputs": [
    {
     "name": "stdout",
     "output_type": "stream",
     "text": [
      "accuracy score: 0.85\n"
     ]
    }
   ],
   "source": [
    "# compute the performance score on test data\n",
    "metric = d3mds.problem.get_performance_metrics()[0]['metric']\n",
    "assert metric == 'accuracy'\n",
    "score = 0.0\n",
    "score = accuracy_score(y_truth, y_pred)\n",
    "print('accuracy score:', accuracy_score(y_truth, y_pred))"
   ]
  },
  {
   "cell_type": "code",
   "execution_count": null,
   "metadata": {},
   "outputs": [],
   "source": []
  }
 ],
 "metadata": {
  "kernelspec": {
   "display_name": "Python 3",
   "language": "python",
   "name": "python3"
  },
  "language_info": {
   "codemirror_mode": {
    "name": "ipython",
    "version": 3
   },
   "file_extension": ".py",
   "mimetype": "text/x-python",
   "name": "python",
   "nbconvert_exporter": "python",
   "pygments_lexer": "ipython3",
   "version": "3.6.4"
  }
 },
 "nbformat": 4,
 "nbformat_minor": 2
}
